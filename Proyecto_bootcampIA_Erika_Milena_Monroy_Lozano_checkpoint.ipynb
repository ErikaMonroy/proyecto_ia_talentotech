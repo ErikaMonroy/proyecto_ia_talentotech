{
  "cells": [
    {
      "cell_type": "markdown",
      "id": "f1450e0f",
      "metadata": {
        "id": "f1450e0f"
      },
      "source": [
        "---\n",
        "\n",
        "# Proyecto: Análisis de Sentimientos en Reseñas de Clientes de Amazon\n",
        "---"
      ]
    },
    {
      "cell_type": "markdown",
      "id": "ce390e70",
      "metadata": {
        "id": "ce390e70"
      },
      "source": [
        "## Talento Tech\n",
        "**Bootcamp de Inteligencia Artificial - Nivel Básico**\n",
        "\n",
        "**Instructor:** Ricardo Jaramillo Diaz\n",
        "\n",
        "**Campista:** Erika Milena Monroy Lozano\n",
        "\n",
        "**Fecha:** 10 de septiembre del 2024\n",
        "\n",
        "---"
      ]
    },
    {
      "cell_type": "markdown",
      "id": "62f4fca5",
      "metadata": {
        "id": "62f4fca5"
      },
      "source": [
        "### 1. **Índice**\n",
        "\n",
        "- Introducción\n",
        "- Problema a Resolver\n",
        "- Pregunta de investigación\n",
        "- Objetivo general y específicos\n",
        "- Metodología\n",
        "- Resultados Esperados\n",
        "- ¿Qué estamos intentando predecir?\n",
        "- Desarrollo Práctico: Análisis de Sentimientos en Reseñas de Clientes¶\n",
        "- Resultados del modelo\n",
        "- Conclusiones\n",
        "- Referencias\n",
        "\n",
        "---"
      ]
    },
    {
      "cell_type": "markdown",
      "id": "82a76b8c",
      "metadata": {
        "id": "82a76b8c"
      },
      "source": [
        "### 1. **Introducción**\n",
        "   En este proyecto, se abordará el problema de clasificación de sentimientos utilizando técnicas de **Procesamiento de Lenguaje Natural (PLN)** aplicadas a reseñas de clientes de Amazon. El objetivo es clasificar los comentarios en tres categorías principales: **positivos**, **negativos** y **neutros**, permitiendo obtener una mejor comprensión de la percepción que los usuarios tienen sobre los productos o servicios.\n",
        "\n",
        "   Para lograrlo, se implementará un **pipeline de PLN** que incluirá el preprocesamiento de texto, la extracción de características, la selección de un modelo de aprendizaje automático con ajustes de hiperparámetros (El ajuste de hiperparámetros permite modificar el rendimiento del modelo para lograr resultados óptimos. Este proceso es una parte fundamental del machine learning, y elegir los valores de hiperparámetros apropiados es fundamental para lograr el éxito.).\n",
        "   \n",
        "---\n",
        "\n",
        "### 2. **Problema a Resolver**\n",
        "   El problema que se pretende resolver es la **identificación automática de la polaridad de los comentarios** de los clientes. El análisis de sentimientos permite detectar las emociones que los usuarios expresan en sus reseñas, lo que puede ser crucial para la toma de decisiones empresariales en áreas como marketing, atención al cliente y mejora de productos.\n",
        "   \n",
        "---\n",
        "\n",
        "### 3. **Pregunta de Investigación**\n",
        "   ¿Cómo se pueden utilizar técnicas de **Procesamiento de Lenguaje Natural (PLN)** para clasificar los comentarios de clientes como **positivos, negativos o neutros**, y qué **palabras clave** influyen en estas clasificaciones?\n",
        "\n",
        "---\n",
        "\n",
        "### 4. **Objetivo General**\n",
        "   Desarrollar un sistema que clasifique automáticamente los sentimientos de los comentarios de los clientes, basado en técnicas de **aprendizaje automático** y **PLN**.\n",
        "   \n",
        "\n",
        "### 5. **Objetivos Específicos**\n",
        "   1. **Recopilación y preprocesamiento de datos**: Descargar el dataset de reseñas de Amazon, limpiar y normalizar el texto para eliminar ruido y obtener datos relevantes para el análisis.\n",
        "   2. **Análisis exploratorio de datos (EDA)**: Realizar un análisis inicial para conocer la distribución de los datos, identificar patrones en las reseñas y detectar posibles problemas como desequilibrio en las clases.\n",
        "   3. **Implementación de técnicas de PLN**: Aplicar técnicas como la **tokenización**, **lematización** y la **vectorización de texto** (TF-IDF o embeddings) para extraer características útiles para el modelo.\n",
        "   4. **Entrenamiento y evaluación del modelo**: Se utilizar un algoritmo de aprendizaje automático (Naive Bayes) y evaluaremos su rendimiento utilizando métricas como precisión, recall y F1-score.\n",
        "\n",
        "---\n",
        "\n",
        "### 6. **Metodología**\n",
        "   El proyecto seguirá los siguientes pasos:\n",
        "\n",
        "   #### 6.1 Preprocesamiento de datos:\n",
        "   - **Eliminar duplicados** y normalizar los textos (minimización de mayúsculas, eliminación de puntuación y stopwords).\n",
        "   - Aplicar **tokenización y lematización** para estandarizar el texto.\n",
        "\n",
        "   #### 6.2 Análisis exploratorio de datos (EDA):\n",
        "   - Visualizar la **distribución de las clases** (positivo, negativo, neutro).\n",
        "   - Obtener **estadísticas básicas** sobre la longitud de los comentarios y las palabras más frecuentes.\n",
        "\n",
        "   #### 6.3 Implementación de modelos:\n",
        "   - Desarrollar un **baseline** con un modelo sencillo como **Naive Bayes**.\n",
        "   - Ajustar los **hiperparámetros** del modelo (por ejemplo, alpha en Naive Bayes) para mejorar el rendimiento.\n",
        "   \n",
        "   #### 6.4 Evaluación:\n",
        "   - Utilizar métricas como **precisión**, **recall**, **F1-score** y **validación cruzada** para evaluar los modelos.\n",
        "\n",
        "---\n",
        "\n",
        "### 7. **Resultados Esperados**\n",
        "   El resultado final será un modelo entrenado que clasifique las reseñas de clientes en tres categorías: **positivas**, **negativas** y **neutras**.\n",
        "   \n",
        "---\n",
        "\n",
        "### 8. **¿Qué estamos intentando predecir?**\n",
        "\n",
        "En mi caso, lo que intentamos predecir es el sentimiento de las reseñas de los clientes (positivo, negativo o neutral), y estos son datos cualitativos. Aquí te explico por qué:\n",
        "\n",
        "**Cualitativo:** El resultado o variable objetivo (target) en este caso son las etiquetas de sentimiento (positive, neutral, negative), que son categorías o clases. No estamos prediciendo un número continuo, sino que estamos clasificando las reseñas en una de estas tres clases.\n",
        "\n",
        "Esto se clasifica como clasificación cualitativa porque intentamos asignar una etiqueta de categoría (sentimiento) a cada reseña.\n",
        "\n",
        "---\n",
        "\n",
        "### 9. **Desarrollo Práctico: Análisis de Sentimientos en Reseñas de Clientes**\n",
        "\n",
        "#### **Paso 1: Carga y Preprocesamiento de Datos**\n",
        "   - Cargar el dataset de reseñas de Amazon.\n",
        "   - Limpiar y preprocesar los textos eliminando duplicados, puntuación y stopwords, y aplicando lematización.\n",
        "\n",
        "#### **Paso 2: Preprocesamiento del Texto**\n",
        "   - Limpieza de comentarios y extracción de tokens.\n",
        "   - Aplicar técnicas de PLN para mejorar la calidad de los datos textuales.\n",
        "\n",
        "#### **Paso 3: Análisis Exploratorio de Datos (EDA)**\n",
        "   - Visualizar la distribución de las clases (positivo, negativo, neutro).\n",
        "   - Identificar las palabras más frecuentes y obtener estadísticas sobre la longitud de las reseñas.\n",
        "   \n",
        "#### Paso 4: Extracción de Características (Feature Extraction)\n",
        "\n",
        "- El objetivo de este paso es transformar las reseñas limpias en una representación numérica utilizando el método TF-IDF (Term Frequency-Inverse Document Frequency),\n",
        "- Es una técnica común en Procesamiento de Lenguaje Natural (PLN). Este método ayuda a capturar la importancia de cada palabra en un documento relativo a una colección de documentos.\n",
        "\n",
        "#### **Paso 5: Entrenamiento del Modelo de Clasificación**\n",
        "   **1. Entrenamiento Inicial con Naive Bayes**\n",
        "   - Entrenamiento del modelo básico de Naive Bayes para clasificar los comentarios.\n",
        "\n",
        "   **2. Validación Cruzada del Modelo**\n",
        "   - Validación cruzada con 5 particiones para asegurar la robustez del modelo.\n",
        "\n",
        "   **3. Visualización de Errores con la Matriz de Confusión**\n",
        "   - Generación de la matriz de confusión para identificar dónde el modelo comete más errores.\n",
        "\n",
        "   **4. Ajuste de Hiperparámetros**\n",
        "   - Ajuste del hiperparámetro **alpha** en Naive Bayes, observando mejoras en las métricas de clasificación.\n",
        "\n",
        "#### **Paso 6: Evaluación del Modelo**\n",
        "   - Evaluar el rendimiento del modelo usando **precision**, **recall**, y **f1-score**.\n",
        "   - Identificar las mejoras obtenidas tras el ajuste de hiperparámetros.\n",
        "\n",
        "---\n",
        "\n",
        "Este proyecto tendrá un enfoque práctico a través de la implementación de un pipeline completo de PLN, y el resultado será una herramienta que permita a las empresas obtener información valiosa sobre la percepción de los productos, de manera automatizada y visual."
      ]
    },
    {
      "cell_type": "markdown",
      "id": "47782457",
      "metadata": {
        "id": "47782457"
      },
      "source": [
        "---\n",
        "\n",
        "# Desarrollo Práctico: Análisis de Sentimientos en Reseñas de Clientes\n",
        "\n",
        "---"
      ]
    },
    {
      "cell_type": "markdown",
      "id": "a35711f2",
      "metadata": {
        "id": "a35711f2"
      },
      "source": [
        "### Paso 1: Carga y Exploración de Datos\n",
        "\n",
        "- En esta sección se cargan los datos desde el archivo CSV, se examinan las primeras filas, ultimas, información general y nombre de columnas y se explora la estructura del dataset."
      ]
    },
    {
      "cell_type": "code",
      "execution_count": null,
      "id": "3a67da4f",
      "metadata": {
        "id": "3a67da4f"
      },
      "outputs": [],
      "source": [
        "# Importar librerías necesarias\n",
        "import pandas as pd\n",
        "\n",
        "# Cargar el dataset\n",
        "ruta_dataset = r'D:\\Erika Monroy\\Desarrollo\\proyecto_ia\\amazon_reviews_.csv'\n",
        "df = pd.read_csv(ruta_dataset)"
      ]
    },
    {
      "cell_type": "code",
      "execution_count": null,
      "id": "892f3463",
      "metadata": {
        "id": "892f3463",
        "outputId": "543ada3d-fbd9-4e1f-a9e1-4f87bc00404b"
      },
      "outputs": [
        {
          "data": {
            "text/html": [
              "<div>\n",
              "<style scoped>\n",
              "    .dataframe tbody tr th:only-of-type {\n",
              "        vertical-align: middle;\n",
              "    }\n",
              "\n",
              "    .dataframe tbody tr th {\n",
              "        vertical-align: top;\n",
              "    }\n",
              "\n",
              "    .dataframe thead th {\n",
              "        text-align: right;\n",
              "    }\n",
              "</style>\n",
              "<table border=\"1\" class=\"dataframe\">\n",
              "  <thead>\n",
              "    <tr style=\"text-align: right;\">\n",
              "      <th></th>\n",
              "      <th>Unnamed: 0</th>\n",
              "      <th>reviewerName</th>\n",
              "      <th>overall</th>\n",
              "      <th>reviewText</th>\n",
              "      <th>reviewTime</th>\n",
              "      <th>day_diff</th>\n",
              "      <th>helpful_yes</th>\n",
              "      <th>helpful_no</th>\n",
              "      <th>total_vote</th>\n",
              "      <th>score_pos_neg_diff</th>\n",
              "      <th>score_average_rating</th>\n",
              "      <th>wilson_lower_bound</th>\n",
              "      <th>sentiment</th>\n",
              "    </tr>\n",
              "  </thead>\n",
              "  <tbody>\n",
              "    <tr>\n",
              "      <th>0</th>\n",
              "      <td>880</td>\n",
              "      <td>cecil john</td>\n",
              "      <td>5.0</td>\n",
              "      <td>marvelous, I just fixed it into my camera and ...</td>\n",
              "      <td>2013-11-15</td>\n",
              "      <td>388</td>\n",
              "      <td>0</td>\n",
              "      <td>0</td>\n",
              "      <td>0</td>\n",
              "      <td>0</td>\n",
              "      <td>0.0</td>\n",
              "      <td>0.0</td>\n",
              "      <td>positive</td>\n",
              "    </tr>\n",
              "    <tr>\n",
              "      <th>1</th>\n",
              "      <td>2386</td>\n",
              "      <td>Joey</td>\n",
              "      <td>5.0</td>\n",
              "      <td>Love it, now i have 118GB in my zte supreme, w...</td>\n",
              "      <td>2014-06-24</td>\n",
              "      <td>167</td>\n",
              "      <td>0</td>\n",
              "      <td>1</td>\n",
              "      <td>1</td>\n",
              "      <td>-1</td>\n",
              "      <td>0.0</td>\n",
              "      <td>0.0</td>\n",
              "      <td>positive</td>\n",
              "    </tr>\n",
              "    <tr>\n",
              "      <th>2</th>\n",
              "      <td>1343</td>\n",
              "      <td>D. Ifversen \"DaveI\"</td>\n",
              "      <td>5.0</td>\n",
              "      <td>Bought the Astak CM-7200...This memory card wo...</td>\n",
              "      <td>2013-05-29</td>\n",
              "      <td>558</td>\n",
              "      <td>0</td>\n",
              "      <td>0</td>\n",
              "      <td>0</td>\n",
              "      <td>0</td>\n",
              "      <td>0.0</td>\n",
              "      <td>0.0</td>\n",
              "      <td>positive</td>\n",
              "    </tr>\n",
              "    <tr>\n",
              "      <th>3</th>\n",
              "      <td>4606</td>\n",
              "      <td>T. ONeill</td>\n",
              "      <td>5.0</td>\n",
              "      <td>What more can be said?  This card is made by t...</td>\n",
              "      <td>2014-05-27</td>\n",
              "      <td>195</td>\n",
              "      <td>0</td>\n",
              "      <td>0</td>\n",
              "      <td>0</td>\n",
              "      <td>0</td>\n",
              "      <td>0.0</td>\n",
              "      <td>0.0</td>\n",
              "      <td>positive</td>\n",
              "    </tr>\n",
              "    <tr>\n",
              "      <th>4</th>\n",
              "      <td>4187</td>\n",
              "      <td>Sherif Qotb</td>\n",
              "      <td>5.0</td>\n",
              "      <td>it's very fast micro sd card i use it for my m...</td>\n",
              "      <td>2013-05-29</td>\n",
              "      <td>558</td>\n",
              "      <td>0</td>\n",
              "      <td>0</td>\n",
              "      <td>0</td>\n",
              "      <td>0</td>\n",
              "      <td>0.0</td>\n",
              "      <td>0.0</td>\n",
              "      <td>positive</td>\n",
              "    </tr>\n",
              "  </tbody>\n",
              "</table>\n",
              "</div>"
            ],
            "text/plain": [
              "   Unnamed: 0         reviewerName  overall  \\\n",
              "0         880           cecil john      5.0   \n",
              "1        2386                 Joey      5.0   \n",
              "2        1343  D. Ifversen \"DaveI\"      5.0   \n",
              "3        4606            T. ONeill      5.0   \n",
              "4        4187          Sherif Qotb      5.0   \n",
              "\n",
              "                                          reviewText  reviewTime  day_diff  \\\n",
              "0  marvelous, I just fixed it into my camera and ...  2013-11-15       388   \n",
              "1  Love it, now i have 118GB in my zte supreme, w...  2014-06-24       167   \n",
              "2  Bought the Astak CM-7200...This memory card wo...  2013-05-29       558   \n",
              "3  What more can be said?  This card is made by t...  2014-05-27       195   \n",
              "4  it's very fast micro sd card i use it for my m...  2013-05-29       558   \n",
              "\n",
              "   helpful_yes  helpful_no  total_vote  score_pos_neg_diff  \\\n",
              "0            0           0           0                   0   \n",
              "1            0           1           1                  -1   \n",
              "2            0           0           0                   0   \n",
              "3            0           0           0                   0   \n",
              "4            0           0           0                   0   \n",
              "\n",
              "   score_average_rating  wilson_lower_bound sentiment  \n",
              "0                   0.0                 0.0  positive  \n",
              "1                   0.0                 0.0  positive  \n",
              "2                   0.0                 0.0  positive  \n",
              "3                   0.0                 0.0  positive  \n",
              "4                   0.0                 0.0  positive  "
            ]
          },
          "execution_count": 2,
          "metadata": {},
          "output_type": "execute_result"
        }
      ],
      "source": [
        "# Ver las primeras filas del dataset\n",
        "df.head()"
      ]
    },
    {
      "cell_type": "code",
      "execution_count": null,
      "id": "cf8de7cf",
      "metadata": {
        "id": "cf8de7cf",
        "outputId": "3f88dc2b-072e-48b9-a376-d283be2770dd"
      },
      "outputs": [
        {
          "data": {
            "text/html": [
              "<div>\n",
              "<style scoped>\n",
              "    .dataframe tbody tr th:only-of-type {\n",
              "        vertical-align: middle;\n",
              "    }\n",
              "\n",
              "    .dataframe tbody tr th {\n",
              "        vertical-align: top;\n",
              "    }\n",
              "\n",
              "    .dataframe thead th {\n",
              "        text-align: right;\n",
              "    }\n",
              "</style>\n",
              "<table border=\"1\" class=\"dataframe\">\n",
              "  <thead>\n",
              "    <tr style=\"text-align: right;\">\n",
              "      <th></th>\n",
              "      <th>Unnamed: 0</th>\n",
              "      <th>reviewerName</th>\n",
              "      <th>overall</th>\n",
              "      <th>reviewText</th>\n",
              "      <th>reviewTime</th>\n",
              "      <th>day_diff</th>\n",
              "      <th>helpful_yes</th>\n",
              "      <th>helpful_no</th>\n",
              "      <th>total_vote</th>\n",
              "      <th>score_pos_neg_diff</th>\n",
              "      <th>score_average_rating</th>\n",
              "      <th>wilson_lower_bound</th>\n",
              "      <th>sentiment</th>\n",
              "    </tr>\n",
              "  </thead>\n",
              "  <tbody>\n",
              "    <tr>\n",
              "      <th>12944</th>\n",
              "      <td>4346</td>\n",
              "      <td>Steven R. Hawk</td>\n",
              "      <td>3.0</td>\n",
              "      <td>For some reason this card HATES my Galaxy S4. ...</td>\n",
              "      <td>2014-04-03</td>\n",
              "      <td>249</td>\n",
              "      <td>0</td>\n",
              "      <td>1</td>\n",
              "      <td>1</td>\n",
              "      <td>-1</td>\n",
              "      <td>0.0</td>\n",
              "      <td>0.0</td>\n",
              "      <td>neutral</td>\n",
              "    </tr>\n",
              "    <tr>\n",
              "      <th>12945</th>\n",
              "      <td>2863</td>\n",
              "      <td>lloyd</td>\n",
              "      <td>3.0</td>\n",
              "      <td>Slow and expensive- better options out there</td>\n",
              "      <td>2014-03-07</td>\n",
              "      <td>276</td>\n",
              "      <td>0</td>\n",
              "      <td>0</td>\n",
              "      <td>0</td>\n",
              "      <td>0</td>\n",
              "      <td>0.0</td>\n",
              "      <td>0.0</td>\n",
              "      <td>neutral</td>\n",
              "    </tr>\n",
              "    <tr>\n",
              "      <th>12946</th>\n",
              "      <td>962</td>\n",
              "      <td>Christopher Coppock</td>\n",
              "      <td>3.0</td>\n",
              "      <td>Great card but have had some issues with my Go...</td>\n",
              "      <td>2013-04-12</td>\n",
              "      <td>605</td>\n",
              "      <td>0</td>\n",
              "      <td>0</td>\n",
              "      <td>0</td>\n",
              "      <td>0</td>\n",
              "      <td>0.0</td>\n",
              "      <td>0.0</td>\n",
              "      <td>neutral</td>\n",
              "    </tr>\n",
              "    <tr>\n",
              "      <th>12947</th>\n",
              "      <td>3915</td>\n",
              "      <td>Robin.H</td>\n",
              "      <td>3.0</td>\n",
              "      <td>This SanDisk UHS-1 TF Card is in good quality....</td>\n",
              "      <td>2014-05-26</td>\n",
              "      <td>196</td>\n",
              "      <td>0</td>\n",
              "      <td>0</td>\n",
              "      <td>0</td>\n",
              "      <td>0</td>\n",
              "      <td>0.0</td>\n",
              "      <td>0.0</td>\n",
              "      <td>neutral</td>\n",
              "    </tr>\n",
              "    <tr>\n",
              "      <th>12948</th>\n",
              "      <td>332</td>\n",
              "      <td>Amazon Customer \"PawsitivelySafe\"</td>\n",
              "      <td>3.0</td>\n",
              "      <td>I have two of these and use them for my Galazy...</td>\n",
              "      <td>2013-12-16</td>\n",
              "      <td>357</td>\n",
              "      <td>0</td>\n",
              "      <td>0</td>\n",
              "      <td>0</td>\n",
              "      <td>0</td>\n",
              "      <td>0.0</td>\n",
              "      <td>0.0</td>\n",
              "      <td>neutral</td>\n",
              "    </tr>\n",
              "  </tbody>\n",
              "</table>\n",
              "</div>"
            ],
            "text/plain": [
              "       Unnamed: 0                       reviewerName  overall  \\\n",
              "12944        4346                     Steven R. Hawk      3.0   \n",
              "12945        2863                              lloyd      3.0   \n",
              "12946         962                Christopher Coppock      3.0   \n",
              "12947        3915                            Robin.H      3.0   \n",
              "12948         332  Amazon Customer \"PawsitivelySafe\"      3.0   \n",
              "\n",
              "                                              reviewText  reviewTime  \\\n",
              "12944  For some reason this card HATES my Galaxy S4. ...  2014-04-03   \n",
              "12945       Slow and expensive- better options out there  2014-03-07   \n",
              "12946  Great card but have had some issues with my Go...  2013-04-12   \n",
              "12947  This SanDisk UHS-1 TF Card is in good quality....  2014-05-26   \n",
              "12948  I have two of these and use them for my Galazy...  2013-12-16   \n",
              "\n",
              "       day_diff  helpful_yes  helpful_no  total_vote  score_pos_neg_diff  \\\n",
              "12944       249            0           1           1                  -1   \n",
              "12945       276            0           0           0                   0   \n",
              "12946       605            0           0           0                   0   \n",
              "12947       196            0           0           0                   0   \n",
              "12948       357            0           0           0                   0   \n",
              "\n",
              "       score_average_rating  wilson_lower_bound sentiment  \n",
              "12944                   0.0                 0.0   neutral  \n",
              "12945                   0.0                 0.0   neutral  \n",
              "12946                   0.0                 0.0   neutral  \n",
              "12947                   0.0                 0.0   neutral  \n",
              "12948                   0.0                 0.0   neutral  "
            ]
          },
          "execution_count": 3,
          "metadata": {},
          "output_type": "execute_result"
        }
      ],
      "source": [
        "# ver las ultimas filas del dataset\n",
        "df.tail()"
      ]
    },
    {
      "cell_type": "code",
      "execution_count": null,
      "id": "2b05d6ff",
      "metadata": {
        "id": "2b05d6ff",
        "outputId": "d4b408dd-cfa1-4cc2-c8b0-c19eb8037577"
      },
      "outputs": [
        {
          "name": "stdout",
          "output_type": "stream",
          "text": [
            "<class 'pandas.core.frame.DataFrame'>\n",
            "RangeIndex: 12949 entries, 0 to 12948\n",
            "Data columns (total 13 columns):\n",
            " #   Column                Non-Null Count  Dtype  \n",
            "---  ------                --------------  -----  \n",
            " 0   Unnamed: 0            12949 non-null  int64  \n",
            " 1   reviewerName          12948 non-null  object \n",
            " 2   overall               12949 non-null  float64\n",
            " 3   reviewText            12948 non-null  object \n",
            " 4   reviewTime            12949 non-null  object \n",
            " 5   day_diff              12949 non-null  int64  \n",
            " 6   helpful_yes           12949 non-null  int64  \n",
            " 7   helpful_no            12949 non-null  int64  \n",
            " 8   total_vote            12949 non-null  int64  \n",
            " 9   score_pos_neg_diff    12949 non-null  int64  \n",
            " 10  score_average_rating  12949 non-null  float64\n",
            " 11  wilson_lower_bound    12949 non-null  float64\n",
            " 12  sentiment             12949 non-null  object \n",
            "dtypes: float64(3), int64(6), object(4)\n",
            "memory usage: 1.3+ MB\n"
          ]
        }
      ],
      "source": [
        "# Ver la información general del dataset\n",
        "df.info()"
      ]
    },
    {
      "cell_type": "code",
      "execution_count": null,
      "id": "193bc7e1",
      "metadata": {
        "id": "193bc7e1",
        "outputId": "a96c2f30-56e5-4540-8833-976c92524e92"
      },
      "outputs": [
        {
          "name": "stdout",
          "output_type": "stream",
          "text": [
            "Index(['Unnamed: 0', 'reviewerName', 'overall', 'reviewText', 'reviewTime',\n",
            "       'day_diff', 'helpful_yes', 'helpful_no', 'total_vote',\n",
            "       'score_pos_neg_diff', 'score_average_rating', 'wilson_lower_bound',\n",
            "       'sentiment'],\n",
            "      dtype='object')\n"
          ]
        }
      ],
      "source": [
        "# Ver las columnas del dataframe\n",
        "print(df.columns)"
      ]
    },
    {
      "cell_type": "markdown",
      "id": "d42b868a",
      "metadata": {
        "id": "d42b868a"
      },
      "source": [
        "---\n",
        "\n",
        "### Paso 2: Preprocesamiento del Texto\n",
        "\n",
        "- En este paso se realiza la limpieza de las reseñas de los clientes para prepararlas para el análisis de sentimientos. El proceso incluye varios subpasos: descarga de los recursos necesarios de NLTK, configuración de la ruta, manejo de valores nulos, y finalmente la transformación del texto. A continuación, se detallan los pasos realizados:"
      ]
    },
    {
      "cell_type": "markdown",
      "id": "3570c156",
      "metadata": {
        "id": "3570c156"
      },
      "source": [
        "**Descarga de recursos de NLTK**\n",
        "\n",
        "Primero, se descargaron los recursos necesarios de NLTK (Natural Language Toolkit), incluyendo:\n",
        "\n",
        "- Stopwords: Lista de palabras comunes (como \"the\", \"and\", \"is\") que no aportan información relevante para el análisis.\n",
        "- WordNet: Un recurso léxico que permite realizar lematización, es decir, reducir las palabras a su forma base (por ejemplo, \"running\" a \"run\").\n",
        "- Punkt: Utilizado para la tokenización de palabras."
      ]
    },
    {
      "cell_type": "code",
      "execution_count": null,
      "id": "e84d29f4",
      "metadata": {
        "id": "e84d29f4",
        "outputId": "08fd935c-b8b4-4efd-db66-0d09002dba75"
      },
      "outputs": [
        {
          "name": "stderr",
          "output_type": "stream",
          "text": [
            "[nltk_data] Downloading package stopwords to C:\\Users\\Erika\n",
            "[nltk_data]     Monroy\\AppData\\Roaming\\nltk_data...\n",
            "[nltk_data]   Package stopwords is already up-to-date!\n",
            "[nltk_data] Downloading package wordnet to C:\\Users\\Erika\n",
            "[nltk_data]     Monroy\\AppData\\Roaming\\nltk_data...\n",
            "[nltk_data]   Package wordnet is already up-to-date!\n",
            "[nltk_data] Downloading package punkt to C:\\Users\\Erika\n",
            "[nltk_data]     Monroy\\AppData\\Roaming\\nltk_data...\n",
            "[nltk_data]   Package punkt is already up-to-date!\n"
          ]
        },
        {
          "data": {
            "text/plain": [
              "True"
            ]
          },
          "execution_count": 6,
          "metadata": {},
          "output_type": "execute_result"
        }
      ],
      "source": [
        "import nltk\n",
        "nltk.download('stopwords')\n",
        "nltk.download('wordnet')\n",
        "nltk.download('punkt')"
      ]
    },
    {
      "cell_type": "markdown",
      "id": "730c9cd1",
      "metadata": {
        "id": "730c9cd1"
      },
      "source": [
        "**Configuración de la ruta de NLTK**\n",
        "\n",
        "- Se verificaron las rutas donde NLTK busca sus recursos y, en caso de ser necesario, se añadió manualmente la ruta donde los recursos están almacenados:"
      ]
    },
    {
      "cell_type": "code",
      "execution_count": null,
      "id": "f9f2fe2e",
      "metadata": {
        "id": "f9f2fe2e"
      },
      "outputs": [],
      "source": [
        "import nltk\n",
        "\n",
        "# Añadir manualmente la ruta donde están guardados los recursos descargados\n",
        "nltk.data.path.append(r'C:\\Users\\Erika Monroy\\AppData\\Roaming\\nltk_data')"
      ]
    },
    {
      "cell_type": "markdown",
      "id": "421d739f",
      "metadata": {
        "id": "421d739f"
      },
      "source": [
        "**Manejo de valores nulos**\n",
        "\n",
        "- Antes de realizar el preprocesamiento, se reemplazaron los valores nulos en la columna de texto reviewText para evitar errores durante la manipulación del texto. Se rellenaron los valores nulos con una cadena vacía:"
      ]
    },
    {
      "cell_type": "code",
      "execution_count": null,
      "id": "aaf33a96",
      "metadata": {
        "id": "aaf33a96"
      },
      "outputs": [],
      "source": [
        "df['reviewText'] = df['reviewText'].fillna('')"
      ]
    },
    {
      "cell_type": "markdown",
      "id": "945fd842",
      "metadata": {
        "id": "945fd842"
      },
      "source": [
        "**Proceso de limpieza del texto**\n",
        "\n",
        "El preprocesamiento del texto consistió en varios pasos:\n",
        "\n",
        "- Convertir a minúsculas: Para normalizar el texto y evitar distinciones entre mayúsculas y minúsculas.\n",
        "- Eliminar puntuación y números: Se removieron caracteres no alfabéticos que no aportan valor al análisis.\n",
        "- Tokenización: El texto fue dividido en palabras individuales.\n",
        "- Eliminar stopwords: Se eliminaron las palabras comunes que no aportan significado relevante al análisis.\n",
        "- Lematización: Las palabras fueron reducidas a su forma base."
      ]
    },
    {
      "cell_type": "code",
      "execution_count": null,
      "id": "fbfd1b6c",
      "metadata": {
        "id": "fbfd1b6c",
        "outputId": "ad46a3a1-69de-446d-c210-ec3d9b641a48"
      },
      "outputs": [
        {
          "name": "stdout",
          "output_type": "stream",
          "text": [
            "                                          reviewText  \\\n",
            "0  marvelous, I just fixed it into my camera and ...   \n",
            "1  Love it, now i have 118GB in my zte supreme, w...   \n",
            "2  Bought the Astak CM-7200...This memory card wo...   \n",
            "3  What more can be said?  This card is made by t...   \n",
            "4  it's very fast micro sd card i use it for my m...   \n",
            "\n",
            "                                  cleaned_reviewText  \n",
            "0  marvelous fixed camera automatically recognize...  \n",
            "1  love gb zte supreme work really well phone res...  \n",
            "2  bought astak cmthis memory card work great hes...  \n",
            "3  said card made leader flash memory reasonable ...  \n",
            "4  fast micro sd card use mobile gopro camera san...  \n"
          ]
        }
      ],
      "source": [
        "import re\n",
        "from nltk.corpus import stopwords\n",
        "from nltk.tokenize import word_tokenize\n",
        "from nltk.stem import WordNetLemmatizer\n",
        "\n",
        "# Reemplazar valores nulos en la columna de texto con cadenas vacías\n",
        "df['reviewText'] = df['reviewText'].fillna('')\n",
        "\n",
        "# Cargar las stopwords\n",
        "stop_words = set(stopwords.words('english'))\n",
        "\n",
        "# Función de limpieza del texto\n",
        "def limpiar_texto(texto):\n",
        "    texto = str(texto)  # Asegurarse de que el valor sea una cadena\n",
        "    texto = texto.lower()  # Convertir a minúsculas\n",
        "    texto = re.sub(r'[^\\w\\s]', '', texto)  # Eliminar puntuación\n",
        "    texto = re.sub(r'\\d+', '', texto)  # Eliminar números\n",
        "    tokens = word_tokenize(texto)  # Tokenización\n",
        "    lemmatizer = WordNetLemmatizer()  # Inicializar lematizador\n",
        "    tokens = [lemmatizer.lemmatize(word) for word in tokens if word not in stop_words]  # Lematizar y eliminar stopwords\n",
        "    return ' '.join(tokens)\n",
        "\n",
        "# Aplicar la limpieza a la columna de reseñas\n",
        "df['cleaned_reviewText'] = df['reviewText'].apply(limpiar_texto)\n",
        "\n",
        "# Ver algunas filas de la columna limpia\n",
        "print(df[['reviewText', 'cleaned_reviewText']].head())"
      ]
    },
    {
      "cell_type": "markdown",
      "id": "7cab272e",
      "metadata": {
        "id": "7cab272e"
      },
      "source": [
        "**Resultados del preprocesamiento**\n",
        "\n",
        "Finalmente, se creó una nueva columna cleaned_reviewText que contiene las reseñas procesadas y limpias. En esta columna, las reseñas originales han sido transformadas para eliminar ruido y hacerlas adecuadas para el análisis. Se puede observar que se eliminaron palabras irrelevantes, se convirtieron a minúsculas y se lematizaron, lo que reduce la dimensionalidad y mejora la calidad de los datos para los modelos de machine learning.\n",
        "\n",
        "---"
      ]
    },
    {
      "cell_type": "markdown",
      "id": "c0059bf0",
      "metadata": {
        "id": "c0059bf0"
      },
      "source": [
        "### Paso 3: Análisis Exploratorio de Datos (EDA)\n",
        "\n",
        "- En este paso, realizaremos un análisis exploratorio para visualizar la distribución de las reseñas limpias y extraer información útil sobre las palabras más comunes. Esto nos permitirá tener una idea más clara de la estructura de los datos y preparar el terreno para la extracción de características y el modelado.\n",
        "\n",
        "**Objetivos:**\n",
        "\n",
        "- Distribución de los comentarios: Visualizar cuántos comentarios se procesaron y obtener una distribución de la longitud de las reseñas.\n",
        "- Palabras más frecuentes: Identificar las palabras más comunes en las reseñas después del preprocesamiento.\n",
        "- Distribución de sentimientos (si aplica): Si el dataset incluye etiquetas de sentimiento (positivo, negativo, neutro), analizar la distribución de estas clases."
      ]
    },
    {
      "cell_type": "markdown",
      "id": "4d68d08d",
      "metadata": {
        "id": "4d68d08d"
      },
      "source": [
        "**Análisis Exploratorio**\n",
        "\n",
        "**1. Distribución de la longitud de las reseñas:**\n",
        "\n",
        "Vamos a crear un gráfico que muestre cómo están distribuidas las longitudes de las reseñas limpias (es decir, el número de palabras por reseña)."
      ]
    },
    {
      "cell_type": "code",
      "execution_count": null,
      "id": "481ae876",
      "metadata": {
        "id": "481ae876",
        "outputId": "5f86ee35-1266-43a2-cf65-120ea6e293d8"
      },
      "outputs": [
        {
          "data": {
            "image/png": "[encoded data removed]",
            "text/plain": [
              "<Figure size 1200x800 with 1 Axes>"
            ]
          },
          "metadata": {},
          "output_type": "display_data"
        }
      ],
      "source": [
        "import matplotlib.pyplot as plt\n",
        "import seaborn as sns\n",
        "import numpy as np\n",
        "\n",
        "# Calcular la longitud de cada reseña\n",
        "df['review_length'] = df['cleaned_reviewText'].apply(lambda x: len(x.split()))\n",
        "\n",
        "# Configurar el estilo de Seaborn\n",
        "sns.set(style='whitegrid')\n",
        "\n",
        "# Crear la figura y los ejes\n",
        "plt.figure(figsize=(12, 8))\n",
        "\n",
        "# Histograma con línea de densidad\n",
        "sns.histplot(df['review_length'], bins=30, kde=True, color='purple', edgecolor='black')\n",
        "\n",
        "# Calcular la media y la mediana\n",
        "mean_value = np.mean(df['review_length'])\n",
        "median_value = np.median(df['review_length'])\n",
        "\n",
        "# Añadir líneas de media y mediana\n",
        "plt.axvline(mean_value, color='red', linestyle='dashed', linewidth=1.5, label=f'Media: {mean_value:.0f}')\n",
        "plt.axvline(median_value, color='green', linestyle='dotted', linewidth=1.5, label=f'Mediana: {median_value:.0f}')\n",
        "\n",
        "# Personalizar el título y las etiquetas\n",
        "plt.title('Distribución de la Longitud de las Reseñas', fontsize=16, fontweight='bold')\n",
        "plt.xlabel('Número de Palabras por Reseña', fontsize=14)\n",
        "plt.ylabel('Frecuencia', fontsize=14)\n",
        "\n",
        "# Añadir leyenda\n",
        "plt.legend()\n",
        "\n",
        "# Mostrar la gráfica\n",
        "plt.tight_layout()\n",
        "plt.show()"
      ]
    },
    {
      "cell_type": "markdown",
      "id": "cbd4633c",
      "metadata": {
        "id": "cbd4633c"
      },
      "source": [
        "El gráfico generado muestra la **distribución de la longitud de las reseñas**, es decir, el número de palabras en cada reseña. Vamos a desglosar los resultados que se pueden observar a partir del gráfico y el código:\n",
        "\n",
        "### **Descripción de la Gráfica:**\n",
        "- **Eje X (Número de Palabras por Reseña)**: Indica la cantidad de palabras que tienen las reseñas.\n",
        "- **Eje Y (Frecuencia)**: Muestra cuántas reseñas caen en cada intervalo de longitud (número de palabras).\n",
        "\n",
        "### **Análisis del Gráfico:**\n",
        "1. **Distribución Sesgada a la Izquierda**:\n",
        "   - La mayoría de las reseñas tienen una longitud relativamente corta, con un gran número de reseñas entre las 10 y 50 palabras. Esto lo puedes ver en el pico a la izquierda del gráfico.\n",
        "   - A medida que la longitud de las reseñas aumenta, el número de reseñas con esa longitud disminuye rápidamente, lo que indica que pocas reseñas son extremadamente largas.\n",
        "\n",
        "2. **Media y Mediana**:\n",
        "   - **Media (37 palabras)**: Indica el promedio de palabras por reseña. Representada por la línea roja punteada en el gráfico, esta línea muestra que, en promedio, las reseñas tienen alrededor de 37 palabras.\n",
        "   - **Mediana (24 palabras)**: La mediana es el punto en el que la mitad de las reseñas tienen menos de 24 palabras y la otra mitad tiene más. Esto se representa con la línea verde punteada. La mediana es menor que la media, lo cual es típico en distribuciones sesgadas a la derecha, como en este caso.\n",
        "   \n",
        "3. **Tendencia General**:\n",
        "   - La curva de densidad (la línea que sigue la forma del histograma) refuerza la idea de que las reseñas largas son mucho menos comunes, mientras que las cortas son significativamente más frecuentes.\n",
        "\n",
        "### **Conclusiones**:\n",
        "- **Longitud predominante**: Las reseñas cortas son las más comunes. Esto puede ser útil para optimizar el análisis, ya que probablemente la mayoría de los usuarios proporcionan comentarios breves.\n",
        "- **Desviación de la longitud**: Aunque la media de las palabras es de 37, la mediana, que es de 24 palabras, indica que la mayoría de las reseñas están más cerca de este valor.\n",
        "- **Implicación para el análisis**: El análisis de sentimiento debe estar preparado para manejar principalmente reseñas cortas, pero no debe ignorar las más largas, ya que podrían contener información valiosa."
      ]
    },
    {
      "cell_type": "markdown",
      "id": "7229cf4e",
      "metadata": {
        "id": "7229cf4e"
      },
      "source": [
        "**2. Palabras más frecuentes:**\n",
        "\n",
        "Vamos a extraer las palabras más frecuentes en las reseñas limpias para identificar patrones comunes."
      ]
    },
    {
      "cell_type": "code",
      "execution_count": null,
      "id": "8e9ea1d1",
      "metadata": {
        "id": "8e9ea1d1",
        "outputId": "dc768d07-cf4b-4ef0-d690-0125e781cae2"
      },
      "outputs": [
        {
          "name": "stdout",
          "output_type": "stream",
          "text": [
            "Palabras más comunes en reseñas Positivas:\n",
            "card: 4298\n",
            "work: 1876\n",
            "phone: 1553\n",
            "gb: 1469\n",
            "great: 1389\n",
            "memory: 1236\n",
            "sd: 1053\n",
            "use: 995\n",
            "sandisk: 957\n",
            "one: 934\n",
            "galaxy: 889\n",
            "fast: 861\n",
            "price: 846\n",
            "good: 815\n",
            "speed: 787\n",
            "bought: 717\n",
            "storage: 713\n",
            "samsung: 708\n",
            "tablet: 682\n",
            "problem: 673\n",
            "\n",
            "Palabras más comunes en reseñas Negativas:\n",
            "card: 12990\n",
            "phone: 3585\n",
            "sandisk: 3526\n",
            "gb: 2798\n",
            "problem: 1819\n",
            "one: 1816\n",
            "would: 1798\n",
            "month: 1791\n",
            "sd: 1591\n",
            "memory: 1477\n",
            "format: 1420\n",
            "got: 1377\n",
            "work: 1376\n",
            "get: 1370\n",
            "time: 1356\n",
            "file: 1342\n",
            "samsung: 1289\n",
            "galaxy: 1285\n",
            "even: 1244\n",
            "class: 1206\n",
            "\n",
            "Palabras más comunes en reseñas Neutrales:\n",
            "card: 7892\n",
            "phone: 2442\n",
            "gb: 2285\n",
            "sandisk: 1919\n",
            "work: 1852\n",
            "one: 1403\n",
            "speed: 1321\n",
            "file: 1119\n",
            "would: 1109\n",
            "sd: 1085\n",
            "use: 1059\n",
            "galaxy: 1025\n",
            "get: 1018\n",
            "problem: 980\n",
            "memory: 951\n",
            "time: 893\n",
            "computer: 851\n",
            "adapter: 817\n",
            "mb: 781\n",
            "samsung: 775\n"
          ]
        }
      ],
      "source": [
        "from collections import Counter\n",
        "\n",
        "# Dividir las reseñas por sentimiento\n",
        "positivo_text = ' '.join(df[df['sentiment'] == 'positive']['cleaned_reviewText']).split()\n",
        "negativo_text = ' '.join(df[df['sentiment'] == 'negative']['cleaned_reviewText']).split()\n",
        "neutral_text = ' '.join(df[df['sentiment'] == 'neutral']['cleaned_reviewText']).split()\n",
        "\n",
        "# Contar las palabras más comunes en cada sentimiento\n",
        "positivo_words = Counter(positivo_text).most_common(20)\n",
        "negativo_words = Counter(negativo_text).most_common(20)\n",
        "neutral_words = Counter(neutral_text).most_common(20)\n",
        "\n",
        "# Mostrar las 20 palabras más comunes para cada sentimiento\n",
        "print(\"Palabras más comunes en reseñas Positivas:\")\n",
        "for word, freq in positivo_words:\n",
        "    print(f\"{word}: {freq}\")\n",
        "\n",
        "print(\"\\nPalabras más comunes en reseñas Negativas:\")\n",
        "for word, freq in negativo_words:\n",
        "    print(f\"{word}: {freq}\")\n",
        "\n",
        "print(\"\\nPalabras más comunes en reseñas Neutrales:\")\n",
        "for word, freq in neutral_words:\n",
        "    print(f\"{word}: {freq}\")"
      ]
    },
    {
      "cell_type": "markdown",
      "id": "5ee68d0c",
      "metadata": {
        "id": "5ee68d0c"
      },
      "source": [
        "**Explicación:**\n",
        "\n",
        "- positivo_text: Extrae las reseñas limpias clasificadas como positivas y las une en un texto largo.\n",
        "- negativo_text: Hace lo mismo para las reseñas negativas.\n",
        "- neutral_text: Hace lo mismo para las reseñas neutrales.\n",
        "\n",
        "Luego, usamos Counter para contar las palabras más comunes en cada sentimiento y obtener las 20 palabras más frecuentes."
      ]
    },
    {
      "cell_type": "markdown",
      "id": "3af5268a",
      "metadata": {
        "id": "3af5268a"
      },
      "source": [
        "**3. Distribución de los Sentimientos**\n",
        "\n",
        "En este paso, crearemos una columna de sentimientos a partir de la columna overall, que contiene las calificaciones de los usuarios. Mapearemos las calificaciones a etiquetas de positivo, neutral y negativo, y luego visualizaremos su distribución.\n",
        "\n",
        "- Creación de la columna de sentimientos\n",
        "\n",
        "Primero, crearemos una nueva columna llamada sentiment basada en las calificaciones de la columna overall. Asignaremos las siguientes etiquetas:\n",
        "\n",
        " - Calificaciones de 4 o 5 serán consideradas positivas.\n",
        " - Calificaciones de 3 serán consideradas neutrales.\n",
        " - Calificaciones de 1 o 2 serán consideradas negativas."
      ]
    },
    {
      "cell_type": "code",
      "execution_count": null,
      "id": "fdd3a096",
      "metadata": {
        "id": "fdd3a096",
        "outputId": "40f9b952-602d-4a96-c9c7-32093046ca77"
      },
      "outputs": [
        {
          "name": "stdout",
          "output_type": "stream",
          "text": [
            "   overall sentiment\n",
            "0      5.0  positive\n",
            "1      5.0  positive\n",
            "2      5.0  positive\n",
            "3      5.0  positive\n",
            "4      5.0  positive\n"
          ]
        }
      ],
      "source": [
        "# Función para asignar sentimientos en base a la calificación\n",
        "def asignar_sentimiento(overall):\n",
        "    if overall >= 4:\n",
        "        return 'positive'\n",
        "    elif overall == 3:\n",
        "        return 'neutral'\n",
        "    else:\n",
        "        return 'negative'\n",
        "\n",
        "# Aplicar la función a la columna 'overall' para crear la columna 'sentiment'\n",
        "df['sentiment'] = df['overall'].apply(asignar_sentimiento)\n",
        "\n",
        "# Verificar las primeras filas con la nueva columna\n",
        "print(df[['overall', 'sentiment']].head())"
      ]
    },
    {
      "cell_type": "markdown",
      "id": "9f0d7dad",
      "metadata": {
        "id": "9f0d7dad"
      },
      "source": [
        "**Descripción del código:**\n",
        "\n",
        "**Función asignar_sentimiento:** Esta función toma la calificación de la columna overall y la convierte en un sentimiento:\n",
        "\n",
        "- Positivo si la calificación es 4 o 5.\n",
        "- Neutral si la calificación es 3.\n",
        "- Negativo si la calificación es 1 o 2.\n",
        "- Nueva columna sentiment: Aplicamos esta función a la columna overall para generar la nueva columna sentiment.\n",
        "\n",
        "**Visualización:** Utilizamos un gráfico de barras para visualizar la cantidad de reseñas que caen en cada categoría de sentimiento."
      ]
    },
    {
      "cell_type": "markdown",
      "id": "83bb9aa8",
      "metadata": {
        "id": "83bb9aa8"
      },
      "source": [
        "- Visualización de la distribución de sentimientos\n",
        "\n",
        "Ahora que tenemos la columna sentiment, podemos visualizar cuántos comentarios son positivos, neutros y negativos."
      ]
    },
    {
      "cell_type": "code",
      "execution_count": null,
      "id": "e7275676",
      "metadata": {
        "id": "e7275676",
        "outputId": "cfbc7b86-5a1b-4c8f-d754-d123943530fb"
      },
      "outputs": [
        {
          "data": {
            "text/plain": [
              "sentiment\n",
              "positive    4449\n",
              "negative    4400\n",
              "neutral     4100\n",
              "Name: count, dtype: int64"
            ]
          },
          "execution_count": 12,
          "metadata": {},
          "output_type": "execute_result"
        }
      ],
      "source": [
        "# Ver la distribución de los sentimientos\n",
        "df['sentiment'].value_counts()"
      ]
    },
    {
      "cell_type": "code",
      "execution_count": null,
      "id": "6a4fdb8e",
      "metadata": {
        "id": "6a4fdb8e",
        "outputId": "50b0033d-3ea0-4e0b-8169-8f7a5aaee1c2"
      },
      "outputs": [
        {
          "data": {
            "image/png": "[encoded data removed]",
            "text/plain": [
              "<Figure size 1000x600 with 1 Axes>"
            ]
          },
          "metadata": {},
          "output_type": "display_data"
        }
      ],
      "source": [
        "import matplotlib.pyplot as plt\n",
        "import seaborn as sns\n",
        "\n",
        "# Configurar el estilo de Seaborn\n",
        "sns.set(style='whitegrid')\n",
        "\n",
        "# Crear la figura\n",
        "plt.figure(figsize=(10,6))\n",
        "\n",
        "# Colores personalizados para cada barra\n",
        "colors = sns.color_palette('Purples', len(df['sentiment'].value_counts()))\n",
        "\n",
        "# Gráfico de barras con colores mejorados\n",
        "ax = df['sentiment'].value_counts().plot(kind='bar', color=colors, edgecolor='black')\n",
        "\n",
        "# Personalizar el título y las etiquetas\n",
        "plt.title('Distribución de los Sentimientos', fontsize=16, fontweight='bold')\n",
        "plt.xlabel('Sentimientos', fontsize=14)\n",
        "plt.ylabel('Frecuencia', fontsize=14)\n",
        "\n",
        "# Añadir etiquetas sobre las barras con los valores\n",
        "for p in ax.patches:\n",
        "    ax.annotate(f'{p.get_height()}',\n",
        "                (p.get_x() + p.get_width() / 2., p.get_height()),\n",
        "                ha='center', va='baseline', fontsize=12, color='black', xytext=(0, 5),\n",
        "                textcoords='offset points')\n",
        "\n",
        "# Ajustar el layout\n",
        "plt.tight_layout()\n",
        "\n",
        "# Mostrar el gráfico\n",
        "plt.show()"
      ]
    },
    {
      "cell_type": "markdown",
      "id": "883c8113",
      "metadata": {
        "id": "883c8113"
      },
      "source": [
        "### Explicación del Gráfico\n",
        "\n",
        "El gráfico de barras muestra la **distribución de sentimientos** de las reseñas de Amazon, dividiendo los comentarios en tres categorías: **positivo**, **negativo** y **neutral**.\n",
        "\n",
        "#### Detalles clave:\n",
        "- **Eje X (Sentimientos):** Representa las tres clases de sentimiento:\n",
        "  - **Positivo:** Comentarios que reflejan una percepción favorable.\n",
        "  - **Negativo:** Comentarios que expresan una opinión desfavorable.\n",
        "  - **Neutral:** Comentarios sin inclinación clara hacia lo positivo o negativo.\n",
        "\n",
        "- **Eje Y (Frecuencia):** Muestra la cantidad de comentarios que caen en cada categoría. Esta frecuencia refleja cuántas reseñas se clasificaron en cada sentimiento.\n",
        "\n",
        "#### Análisis:\n",
        "- **Reseñas positivas:** Con **4449** comentarios, las reseñas con un sentimiento positivo son las más comunes.\n",
        "- **Reseñas negativas:** Le siguen las reseñas negativas con **4400** comentarios, lo que indica que hay una cantidad considerable de clientes insatisfechos.\n",
        "- **Reseñas neutrales:** Con **4100** comentarios, los comentarios neutrales tienen la menor frecuencia, lo que sugiere que los clientes tienden a compartir reseñas más inclinadas hacia los extremos de positivo o negativo.\n",
        "\n",
        "### Interpretación:\n",
        "Este gráfico es útil para comprender la proporción general de sentimientos expresados por los clientes. En este caso, aunque hay una ligera mayor tendencia hacia las reseñas positivas, hay una representación bastante equilibrada entre los comentarios positivos y negativos. Los comentarios neutrales son menos frecuentes, pero aún son una porción significativa.\n",
        "\n",
        "En el análisis de los comentarios de los usuarios, tener esta información ayuda a tomar decisiones más estratégicas sobre cómo mejorar productos o servicios según las áreas donde los usuarios expresan más insatisfacción o satisfacción.\n",
        "\n",
        "#### Conclusión:\n",
        "Este análisis refleja que la mayoría de los usuarios tienen experiencias positivas, pero las reseñas negativas y neutras también representan una parte importante de las opiniones, lo que indica que las empresas deben trabajar tanto en mantener la satisfacción de los clientes como en abordar las áreas de mejora identificadas en los comentarios negativos.\n",
        "\n",
        "---"
      ]
    },
    {
      "cell_type": "markdown",
      "id": "dc3e8da6",
      "metadata": {
        "id": "dc3e8da6"
      },
      "source": [
        "### Paso 4: Extracción de Características (Feature Extraction)\n",
        "\n",
        "El objetivo de este paso es transformar las reseñas limpias en una representación numérica utilizando el método TF-IDF (Term Frequency-Inverse Document Frequency), una técnica común en Procesamiento de Lenguaje Natural (PLN). Este método ayuda a capturar la importancia de cada palabra en un documento relativo a una colección de documentos.\n",
        "\n",
        "**Objetivo:**\n",
        "\n",
        "- Convertir las reseñas preprocesadas (en texto) en una representación numérica utilizando TF-IDF, que luego pueda ser utilizada para entrenar un modelo de machine learning.\n",
        "\n",
        "**Código para la extracción de características con TF-IDF:**\n",
        "\n",
        "1. Importar la librería y configurar TF-IDF: Primero, definimos el vectorizador TF-IDF con un límite máximo de características para evitar el sobreajuste y mejorar la eficiencia del modelo."
      ]
    },
    {
      "cell_type": "code",
      "execution_count": null,
      "id": "78763494",
      "metadata": {
        "id": "78763494",
        "outputId": "5a90bbb5-71ae-49ce-f999-9535d7bd0723"
      },
      "outputs": [
        {
          "name": "stdout",
          "output_type": "stream",
          "text": [
            "El tamaño de la matriz TF-IDF es: (12949, 5000)\n"
          ]
        }
      ],
      "source": [
        "from sklearn.feature_extraction.text import TfidfVectorizer\n",
        "\n",
        "# Definir el vectorizador TF-IDF\n",
        "tfidf_vectorizer = TfidfVectorizer(max_features=5000)  # Podemos ajustar 'max_features' según nuestras necesidades\n",
        "\n",
        "# Aplicar TF-IDF a las reseñas limpias\n",
        "X = tfidf_vectorizer.fit_transform(df['cleaned_reviewText'])\n",
        "\n",
        "# Mostrar el tamaño de la matriz TF-IDF\n",
        "print(f\"El tamaño de la matriz TF-IDF es: {X.shape}\")"
      ]
    },
    {
      "cell_type": "markdown",
      "id": "9476d0f0",
      "metadata": {
        "id": "9476d0f0"
      },
      "source": [
        "**En este código:**\n",
        "\n",
        "- TfidfVectorizer: Se utiliza para transformar el texto en una matriz de características.\n",
        "- max_features: Define el número máximo de características que TF-IDF extraerá del texto. Puedes ajustar este valor según el tamaño de tu dataset.\n",
        "\n",
        "2. Preparar las etiquetas de sentimiento: Ya que previamente creamos la columna sentiment, la usamos como nuestras etiquetas (y), que serán necesarias en el siguiente paso para entrenar un modelo."
      ]
    },
    {
      "cell_type": "code",
      "execution_count": null,
      "id": "82c5260b",
      "metadata": {
        "id": "82c5260b"
      },
      "outputs": [],
      "source": [
        "# Asignar las etiquetas de sentimiento a y\n",
        "y = df['sentiment']"
      ]
    },
    {
      "cell_type": "markdown",
      "id": "38ea223d",
      "metadata": {
        "id": "38ea223d"
      },
      "source": [
        "3. Dividir los datos en entrenamiento y prueba: Para entrenar y evaluar nuestro modelo de machine learning, dividimos el conjunto de datos en un conjunto de entrenamiento y otro de prueba. Esto es importante para medir el rendimiento del modelo en datos no vistos.\n"
      ]
    },
    {
      "cell_type": "code",
      "execution_count": null,
      "id": "a4224a1e",
      "metadata": {
        "id": "a4224a1e",
        "outputId": "14ec4aed-b4c5-437d-b207-17cddf8a1171"
      },
      "outputs": [
        {
          "name": "stdout",
          "output_type": "stream",
          "text": [
            "Tamaño del conjunto de entrenamiento: (10359, 5000)\n",
            "Tamaño del conjunto de prueba: (2590, 5000)\n"
          ]
        }
      ],
      "source": [
        "from sklearn.model_selection import train_test_split\n",
        "\n",
        "# Dividir los datos en conjuntos de entrenamiento (80%) y prueba (20%)\n",
        "X_train, X_test, y_train, y_test = train_test_split(X, y, test_size=0.2, random_state=42)\n",
        "\n",
        "# Mostrar las dimensiones de los conjuntos de entrenamiento y prueba\n",
        "print(f\"Tamaño del conjunto de entrenamiento: {X_train.shape}\")\n",
        "print(f\"Tamaño del conjunto de prueba: {X_test.shape}\")"
      ]
    },
    {
      "cell_type": "markdown",
      "id": "0229bb4d",
      "metadata": {
        "id": "0229bb4d"
      },
      "source": [
        "**Explicación del código:**\n",
        "\n",
        "- **TF-IDF:** El vectorizador TF-IDF convierte el texto en una matriz numérica donde cada fila representa una reseña y cada columna representa una palabra. La matriz tiene un tamaño de n_samples x n_features donde n_samples es el número de reseñas y n_features es el número máximo de características (palabras).\n",
        "\n",
        "- **Etiquetas (y):** Se utilizan las etiquetas de sentimiento (positive, neutral, negative) generadas previamente para entrenar y evaluar el modelo.\n",
        "- **División en entrenamiento y prueba:** El dataset se divide en un 80% de entrenamiento y un 20% de prueba para evaluar el rendimiento del modelo en datos que no ha visto antes.\n",
        "\n",
        "---"
      ]
    },
    {
      "cell_type": "markdown",
      "id": "3344186f",
      "metadata": {
        "id": "3344186f"
      },
      "source": [
        "### Paso 5: Entrenamiento del Modelo de Clasificación\n",
        "\n",
        "1. Entrenamiento Inicial con Naive Bayes\n",
        "\n",
        "En esta sección, explicamos el objetivo de predecir el sentimiento de las reseñas utilizando un modelo de clasificación. Empezamos con un modelo básico de Naive Bayes que es eficiente para problemas de texto."
      ]
    },
    {
      "cell_type": "code",
      "execution_count": null,
      "id": "7a26abab",
      "metadata": {
        "id": "7a26abab",
        "outputId": "f4ccaecb-b084-42a0-91de-5226dcb39480"
      },
      "outputs": [
        {
          "name": "stdout",
          "output_type": "stream",
          "text": [
            "Reporte de clasificación:\n",
            "              precision    recall  f1-score   support\n",
            "\n",
            "    negative       0.95      0.98      0.96       883\n",
            "     neutral       0.95      0.98      0.96       794\n",
            "    positive       0.97      0.92      0.94       913\n",
            "\n",
            "    accuracy                           0.96      2590\n",
            "   macro avg       0.96      0.96      0.96      2590\n",
            "weighted avg       0.96      0.96      0.96      2590\n",
            "\n",
            "Precisión del modelo: 0.9560\n"
          ]
        }
      ],
      "source": [
        "from sklearn.naive_bayes import MultinomialNB\n",
        "from sklearn.metrics import classification_report, accuracy_score\n",
        "\n",
        "# Inicializar el modelo Naive Bayes\n",
        "modelo = MultinomialNB()\n",
        "\n",
        "# Entrenar el modelo con los datos de entrenamiento\n",
        "modelo.fit(X_train, y_train)\n",
        "\n",
        "# Hacer predicciones en el conjunto de prueba\n",
        "y_pred = modelo.predict(X_test)\n",
        "\n",
        "# Evaluar el rendimiento del modelo\n",
        "print(\"Reporte de clasificación:\")\n",
        "print(classification_report(y_test, y_pred))\n",
        "\n",
        "# Mostrar la precisión del modelo\n",
        "precision = accuracy_score(y_test, y_pred)\n",
        "print(f\"Precisión del modelo: {precision:.4f}\")"
      ]
    },
    {
      "cell_type": "markdown",
      "id": "2bc725f2",
      "metadata": {
        "id": "2bc725f2"
      },
      "source": [
        "#### Explicación (Entrenamiento con Naive Bayes):\n",
        "\n",
        "Naive Bayes es un modelo de clasificación probabilístico basado en la **teoría de Bayes**. Es especialmente eficiente en problemas de clasificación de texto. Utilizamos el modelo **Multinomial Naive Bayes**, adecuado para texto, y entrenamos el modelo con el conjunto de datos de reseñas de Amazon. Los resultados muestran la precisión, recall y f1-score, donde la precisión global es 0.9560."
      ]
    },
    {
      "cell_type": "markdown",
      "id": "98e767a0",
      "metadata": {
        "id": "98e767a0"
      },
      "source": [
        "### Análisis del Reporte de Clasificación:\n",
        "\n",
        "En este reporte de clasificación, evaluamos las métricas clave para cada clase (**negativa**, **neutral**, **positiva**) y observamos la precisión general del modelo. Aquí está el análisis detallado:\n",
        "\n",
        "1. **Clase negativa**:\n",
        "   - **Precisión (0.95)**: El 95% de las reseñas que fueron predichas como negativas realmente lo eran. Esto indica que el modelo es bastante preciso al clasificar reseñas negativas.\n",
        "   - **Recall (0.98)**: El 98% de todas las reseñas negativas reales fueron correctamente identificadas por el modelo. Este es un excelente resultado, ya que significa que el modelo no está perdiendo muchas reseñas negativas.\n",
        "   - **F1-score (0.96)**: La combinación de precisión y recall es muy alta (0.96), lo que indica que el modelo tiene un rendimiento muy bueno en esta clase.\n",
        "\n",
        "2. **Clase neutral**:\n",
        "   - **Precisión (0.95)**: El modelo es también muy preciso para la clase neutral, con un 95% de las predicciones de reseñas neutrales siendo correctas.\n",
        "   - **Recall (0.98)**: El modelo identificó correctamente el 98% de las reseñas neutrales reales. Esto muestra que el modelo es capaz de reconocer casi todas las reseñas neutrales.\n",
        "   - **F1-score (0.96)**: La combinación de precisión y recall es excelente, lo que significa que el modelo tiene un rendimiento muy equilibrado en la predicción de reseñas neutrales.\n",
        "\n",
        "3. **Clase positiva**:\n",
        "   - **Precisión (0.97)**: El modelo es aún más preciso para la clase positiva, con un 97% de las reseñas predichas como positivas siendo correctas.\n",
        "   - **Recall (0.92)**: Aunque el recall es un poco más bajo que en las otras clases (92%), el modelo aún reconoce la mayoría de las reseñas positivas. Esto indica que, aunque el modelo pierde algunas reseñas positivas, sigue siendo muy confiable.\n",
        "   - **F1-score (0.94)**: Aunque el f1-score es ligeramente menor que en las otras clases, sigue siendo muy alto, lo que indica un buen equilibrio entre precisión y recall.\n",
        "\n",
        "4. **Métricas globales**:\n",
        "   - **Accuracy (0.96)**: El modelo tiene una precisión global del 96%, lo que significa que clasifica correctamente el 96% de las reseñas en total.\n",
        "   - **Macro avg (0.96)**: El promedio macro de precisión, recall y f1-score para las tres clases es 0.96, lo que confirma que el modelo tiene un rendimiento uniforme en todas las clases.\n",
        "   - **Weighted avg (0.96)**: La media ponderada también es de 0.96, lo que sugiere que el modelo funciona de manera consistente incluso con clases desbalanceadas.\n",
        "\n",
        "### Resumen:\n",
        "\n",
        "El modelo Naive Bayes entrenado tiene un rendimiento excelente en todas las clases, con una precisión global del 96%. Aunque hay una ligera disminución en el **recall** de la clase positiva (0.92), sigue siendo un modelo muy fiable. El alto **f1-score** en todas las clases demuestra que el modelo está bien equilibrado y realiza predicciones consistentes para las tres categorías (negativa, neutral, positiva).\n",
        "\n",
        "---"
      ]
    },
    {
      "cell_type": "markdown",
      "id": "108c85c3",
      "metadata": {
        "id": "108c85c3"
      },
      "source": [
        "### Paso 6: Validación Cruzada del Modelo\n",
        "\n",
        "1. Aplicar Validación Cruzada\n",
        "\n",
        "En este paso se ha aplicara una validación cruzada con 5 particiones (k-fold cross-validation) para obtener una evaluación más robusta del modelo. La validación cruzada ayuda a evitar que el modelo dependa demasiado de una sola partición de prueba, repartiendo los datos en diferentes particiones para evaluar la precisión promedio del modelo en todas ellas."
      ]
    },
    {
      "cell_type": "code",
      "execution_count": null,
      "id": "40379b9a",
      "metadata": {
        "id": "40379b9a",
        "outputId": "3b3f1685-76f3-4aa5-c0fb-71ebf6145e2d"
      },
      "outputs": [
        {
          "name": "stdout",
          "output_type": "stream",
          "text": [
            "Precisión promedio con validación cruzada: 0.9474\n",
            "Desviación estándar de la precisión: 0.0046\n"
          ]
        }
      ],
      "source": [
        "from sklearn.model_selection import cross_val_score\n",
        "\n",
        "# Validación cruzada con 5 particiones\n",
        "cv_scores = cross_val_score(modelo, X_train, y_train, cv=5, scoring='accuracy')\n",
        "\n",
        "# Resultados de la validación cruzada\n",
        "print(f\"Precisión promedio con validación cruzada: {cv_scores.mean():.4f}\")\n",
        "print(f\"Desviación estándar de la precisión: {cv_scores.std():.4f}\")"
      ]
    },
    {
      "cell_type": "markdown",
      "id": "3c8a567a",
      "metadata": {
        "id": "3c8a567a"
      },
      "source": [
        "**Resultados:**\n",
        "\n",
        "- Precisión promedio con validación cruzada: 0.9474\n",
        "\n",
        "Esto significa que, en promedio, el modelo clasifica correctamente el 94.74% de las reseñas a lo largo de las 5 particiones. Es un valor muy cercano al resultado del modelo entrenado previamente, lo que demuestra la consistencia del modelo en diferentes particiones del conjunto de datos.\n",
        "\n",
        "- Desviación estándar de la precisión: 0.0046\n",
        "\n",
        "La desviación estándar es muy baja, lo que indica que la precisión es bastante estable a lo largo de las diferentes particiones. Esto es una buena señal, ya que sugiere que el modelo tiene un rendimiento similar sin importar qué subconjunto de datos esté utilizando.\n",
        "\n",
        "**Explicación:**\n",
        "\n",
        "La validación cruzada asegura que el modelo no esté sobreajustando a una sola división de los datos y nos ofrece una evaluación más confiable de su rendimiento general. Al observar una baja desviación estándar, podemos concluir que el modelo es confiable y no está sesgado hacia ninguna partición particular del conjunto de datos.\n",
        "\n",
        "**Resumen:**\n",
        "\n",
        "- La validación cruzada confirma que el modelo tiene un rendimiento sólido y consistente.\n",
        "- La precisión promedio del 94.74% es excelente, y la baja desviación estándar refuerza la confianza en los resultados obtenidos."
      ]
    },
    {
      "cell_type": "markdown",
      "id": "b08ea03a",
      "metadata": {
        "id": "b08ea03a"
      },
      "source": [
        "### Visualización de Errores con la Matriz de Confusión\n",
        "\n",
        "1. Generación y Visualización de la Matriz de Confusión\n",
        "\n",
        "La matriz de confusión nos ofrece una representación clara de cómo el modelo está clasificando las reseñas y dónde ocurren los errores."
      ]
    },
    {
      "cell_type": "code",
      "execution_count": null,
      "id": "5bff850d",
      "metadata": {
        "id": "5bff850d",
        "outputId": "a53519ab-517c-4429-9775-3a91b7ad7445"
      },
      "outputs": [
        {
          "data": {
            "image/png": "[encoded data removed]",
            "text/plain": [
              "<Figure size 800x600 with 2 Axes>"
            ]
          },
          "metadata": {},
          "output_type": "display_data"
        }
      ],
      "source": [
        "from sklearn.metrics import confusion_matrix\n",
        "import seaborn as sns\n",
        "import matplotlib.pyplot as plt\n",
        "\n",
        "# Calcular la matriz de confusión\n",
        "conf_matrix = confusion_matrix(y_test, y_pred)\n",
        "\n",
        "# Visualizar la matriz de confusión\n",
        "plt.figure(figsize=(8,6))\n",
        "sns.heatmap(conf_matrix, annot=True, fmt=\"d\", cmap=\"Purples\", xticklabels=modelo.classes_, yticklabels=modelo.classes_)\n",
        "plt.title('Matriz de Confusión')\n",
        "plt.xlabel('Predicción')\n",
        "plt.ylabel('Verdad')\n",
        "plt.show()"
      ]
    },
    {
      "cell_type": "markdown",
      "id": "9b758a01",
      "metadata": {
        "id": "9b758a01"
      },
      "source": [
        "### Análisis de la Matriz de Confusión:\n",
        "\n",
        "La **matriz de confusión** nos ofrece una representación clara de cómo el modelo está clasificando las reseñas y dónde ocurren los errores. A continuación, te doy un análisis de lo que muestra esta matriz:\n",
        "\n",
        "1. **Clase negativa**:\n",
        "   - **861** predicciones correctas: El modelo predijo correctamente 861 de las 883 reseñas negativas reales, lo que indica que el modelo es muy bueno clasificando reseñas negativas.\n",
        "   - **16 errores**: De las 883 reseñas negativas, el modelo confundió 16 con reseñas positivas. Este es un pequeño número de errores y sugiere que el modelo está bien ajustado para la clase negativa.\n",
        "   - **6 errores**: El modelo confundió 6 reseñas negativas con neutrales. Esto es un error leve, pero aún puede mejorar.\n",
        "\n",
        "2. **Clase neutral**:\n",
        "   - **778** predicciones correctas: El modelo identificó correctamente 778 de las 794 reseñas neutrales, lo cual es un muy buen resultado.\n",
        "   - **7 errores**: El modelo clasificó 7 reseñas neutrales como negativas. Este tipo de error sugiere que el modelo puede tener dificultades para diferenciar reseñas que están cerca de ser negativas pero que son neutrales.\n",
        "   - **9 errores**: El modelo confundió 9 reseñas neutrales con positivas, lo que indica que también hay confusión entre lo neutral y lo positivo.\n",
        "\n",
        "3. **Clase positiva**:\n",
        "   - **837** predicciones correctas: El modelo clasificó correctamente 837 de las 913 reseñas positivas.\n",
        "   - **40 errores**: El modelo confundió 40 reseñas positivas con negativas, lo que sugiere que algunas reseñas positivas tienen características que las hacen parecer negativas para el modelo.\n",
        "   - **36 errores**: Hubo 36 reseñas positivas que fueron clasificadas como neutrales, lo que indica una cierta confusión entre lo positivo y lo neutral.\n",
        "\n",
        "### Resumen de la Matriz de Confusión:\n",
        "- El modelo funciona muy bien en la clase **negativa** y **neutral**, con muy pocos errores en ambas.\n",
        "- La mayoría de los errores ocurren entre las clases **positiva** y **neutral**, lo que puede deberse a la similitud en el tono de algunas reseñas.\n",
        "- El número de errores en la clase **positiva** (40 clasificadas como negativas) puede indicar que el modelo necesita más ajuste para mejorar la precisión en esa clase.\n",
        "\n",
        "### Conclusión:\n",
        "- En general, la **matriz de confusión** demuestra que el modelo tiene un rendimiento sólido en todas las clases, con la mayoría de los errores ocurriendo entre las clases **positiva** y **neutral**. Mejorar el preprocesamiento del texto o ajustar más el modelo podría reducir estos errores."
      ]
    },
    {
      "cell_type": "markdown",
      "id": "7bc2d8fb",
      "metadata": {
        "id": "7bc2d8fb"
      },
      "source": [
        "###  Ajuste de Hiperparámetros\n",
        "\n",
        "1. Ajuste del Hiperparámetro alpha en Naive Bayes\n",
        "\n",
        "El ajuste del hiperparámetro alpha en el modelo Naive Bayes controla el suavizado de Laplace. En este caso, has ajustado el valor de alpha a 0.5, y los resultados han sido evaluados nuevamente para ver si hay mejoras en el rendimiento."
      ]
    },
    {
      "cell_type": "code",
      "execution_count": null,
      "id": "deab5a1c",
      "metadata": {
        "id": "deab5a1c",
        "outputId": "825e1542-5309-4337-f002-4f6d49d681c0"
      },
      "outputs": [
        {
          "name": "stdout",
          "output_type": "stream",
          "text": [
            "Reporte de clasificación (con ajuste de alpha):\n",
            "              precision    recall  f1-score   support\n",
            "\n",
            "    negative       0.95      0.98      0.96       883\n",
            "     neutral       0.96      0.98      0.97       794\n",
            "    positive       0.97      0.93      0.95       913\n",
            "\n",
            "    accuracy                           0.96      2590\n",
            "   macro avg       0.96      0.96      0.96      2590\n",
            "weighted avg       0.96      0.96      0.96      2590\n",
            "\n",
            "Precisión del modelo: 0.9560\n"
          ]
        }
      ],
      "source": [
        "# Ajustar el valor de alpha\n",
        "modelo_ajustado = MultinomialNB(alpha=0.5)\n",
        "modelo_ajustado.fit(X_train, y_train)\n",
        "\n",
        "# Hacer predicciones con el modelo ajustado\n",
        "y_pred_ajustado = modelo_ajustado.predict(X_test)\n",
        "\n",
        "# Evaluar el rendimiento del modelo ajustado\n",
        "print(\"Reporte de clasificación (con ajuste de alpha):\")\n",
        "print(classification_report(y_test, y_pred_ajustado))\n",
        "\n",
        "\n",
        "# Mostrar la precisión del modelo\n",
        "precision = accuracy_score(y_test, y_pred)\n",
        "print(f\"Precisión del modelo: {precision:.4f}\")"
      ]
    },
    {
      "cell_type": "markdown",
      "id": "818ef19d",
      "metadata": {
        "id": "818ef19d"
      },
      "source": [
        "### Análisis del Ajuste de Hiperparámetros (alpha) en Naive Bayes:\n",
        "\n",
        "El ajuste del hiperparámetro **alpha** en el modelo Naive Bayes controla el suavizado de Laplace. En este caso, has ajustado el valor de **alpha** a 0.5, y los resultados han sido evaluados nuevamente para ver si hay mejoras en el rendimiento.\n",
        "\n",
        "#### Resultados del modelo ajustado:\n",
        "\n",
        "1. **Clase negativa**:\n",
        "   - **Precisión (0.95)**: La precisión para la clase negativa sigue siendo muy alta, lo que indica que el modelo identifica correctamente las reseñas negativas con el mismo nivel de precisión.\n",
        "   - **Recall (0.98)**: La capacidad del modelo para identificar todas las reseñas negativas sigue siendo excelente (98%).\n",
        "   - **F1-score (0.96)**: El equilibrio entre precisión y recall sigue siendo sólido para esta clase, mostrando que el ajuste de alpha no afectó negativamente el rendimiento en esta clase.\n",
        "\n",
        "2. **Clase neutral**:\n",
        "   - **Precisión (0.96)**: La precisión en la clase neutral ha mejorado ligeramente (de 0.95 a 0.96), lo que indica que el modelo clasifica de manera más precisa las reseñas neutrales después del ajuste.\n",
        "   - **Recall (0.98)**: El modelo mantiene un alto recall en la clase neutral, lo que significa que sigue identificando correctamente casi todas las reseñas neutrales.\n",
        "   - **F1-score (0.97)**: El f1-score ha aumentado (de 0.96 a 0.97), lo que sugiere que el modelo ahora está mejor equilibrado para esta clase, mostrando una mejora en el rendimiento general.\n",
        "\n",
        "3. **Clase positiva**:\n",
        "   - **Precisión (0.97)**: La precisión para la clase positiva sigue siendo excelente (97%).\n",
        "   - **Recall (0.93)**: El recall ha mejorado ligeramente (de 0.92 a 0.93), lo que sugiere que el ajuste de alpha ha permitido al modelo captar mejor las reseñas positivas.\n",
        "   - **F1-score (0.95)**: El f1-score ha subido a 0.95, mostrando un rendimiento aún más equilibrado en la clase positiva.\n",
        "\n",
        "4. **Métricas globales**:\n",
        "   - **Accuracy (0.96)**: La precisión global del modelo sigue siendo del 96%, lo que muestra que el ajuste del hiperparámetro no afectó negativamente el rendimiento general.\n",
        "   - **Macro avg (0.96)**: El promedio macro de precisión, recall y f1-score sigue siendo del 0.96, lo que indica que el modelo mantiene un rendimiento uniforme en todas las clases.\n",
        "   - **Weighted avg (0.96)**: La media ponderada también es de 0.96, lo que refuerza la estabilidad del modelo ajustado.\n",
        "\n",
        "### Resumen:\n",
        "- El ajuste del valor de **alpha** a 0.5 ha mejorado ligeramente el rendimiento del modelo en la clase **neutral** y **positiva**, particularmente en términos de **f1-score**.\n",
        "- El modelo mantiene un rendimiento equilibrado en todas las clases, con pequeñas mejoras en la capacidad de identificar reseñas **neutrales** y **positivas**.\n",
        "- El ajuste no afectó negativamente el rendimiento en ninguna clase, lo que muestra que el valor de alpha seleccionado es adecuado para este conjunto de datos.\n",
        "\n",
        "### Conclusión:\n",
        "El ajuste de **alpha** ha mostrado ser efectivo, especialmente para mejorar el rendimiento del modelo en la clase **neutral** y **positiva**. Esto demuestra que ajustar los hiperparámetros puede ser una técnica útil para optimizar el rendimiento del modelo.\n",
        "\n",
        "---"
      ]
    },
    {
      "cell_type": "markdown",
      "id": "44196a48",
      "metadata": {
        "id": "44196a48"
      },
      "source": [
        "## Resultados del Modelo\n",
        "\n",
        "\n",
        "**Explicación del Rendimiento:**\n",
        "   - Precisión del modelo ajustado: 0.9560 (Se esta utilizando el modelo con ajuste de alpha).\n",
        "   - Reporte de clasificación: El modelo fue capaz de clasificar correctamente las reseñas en la mayoría de los casos, con un   buen balance entre precisión y recall para las clases positiva, negativa y neutra.\n",
        "\n",
        "**Análisis de la Matriz de Confusión:**\n",
        "\n",
        "- **Explicación:** La matriz de confusión muestra cómo el modelo predijo cada clase. Se resalta que:\n",
        "  - Los errores más comunes ocurrieron en la confusión entre positivo y negativo.\n",
        "  - La clase neutral tuvo menos errores, indicando que el modelo tiene buen desempeño en identificar reseñas neutrales.\n",
        "\n",
        "**Conclusiones del Reporte de Clasificación:**\n",
        "\n",
        "- La clase positiva tuvo un recall ligeramente menor que las otras, lo que significa que algunas reseñas positivas fueron clasificadas como negativas o neutrales.\n",
        "- Sin embargo, el alto F1-Score en todas las clases demuestra que el modelo generaliza bien y maneja adecuadamente los datos.\n",
        "\n",
        "**Validación Cruzada:**\n",
        "\n",
        "- Se utilizo la validación cruzada para asegurar que el modelo generaliza correctamente. Promedio de precisión obtenido en las particiones.\n",
        "  - Precisión promedio con validación cruzada: 0.9474\n",
        "  - Desviación estándar de la precisión: 0.0046\n",
        "  \n",
        "  Aquí tienes una versión ajustada de las conclusiones, con la explicación del modelo **BERT** y cómo estos modelos pueden ser aplicados en la industria:\n",
        "\n",
        "---\n",
        "\n",
        "### **Conclusiones**\n",
        "\n",
        "- **Rendimiento del Modelo:**\n",
        "  El modelo ajustado de **Naive Bayes** ha demostrado un rendimiento sólido con una precisión del **95.6%**, lo que indica que es capaz de clasificar las reseñas de manera efectiva en las categorías de sentimientos (positivo, negativo, neutral). Este alto grado de exactitud hace que el modelo sea útil para tareas automatizadas de análisis de sentimientos.\n",
        "\n",
        "- **Limitaciones del Modelo:**\n",
        "  Aunque el modelo de **Naive Bayes** muestra un rendimiento fuerte, existen **limitaciones**. Un desafío importante es la clasificación de reseñas con tono ambiguo, especialmente entre las clases **positivo** y **neutral**. Este tipo de errores ocurre debido a que Naive Bayes, aunque eficiente, simplifica la correlación entre las palabras, lo que a veces lleva a clasificaciones incorrectas.\n",
        "\n",
        "  **Modelos más avanzados, como BERT**, podrían abordar estas limitaciones.\n",
        "   \n",
        "   **BERT (Bidirectional Encoder Representations from Transformers)** es un modelo basado en redes neuronales de tipo **Transformer**, que ha demostrado un rendimiento superior en tareas de PLN (Procesamiento de Lenguaje Natural). A diferencia de Naive Bayes, **BERT** no solo toma en cuenta el contexto de las palabras de izquierda a derecha, sino que también considera el contexto de derecha a izquierda, lo que lo convierte en un modelo **bidireccional**. Esta característica permite que **BERT** comprenda mejor el significado contextual de las palabras, lo que es crucial en el análisis de sentimientos donde el tono y la intención pueden depender del contexto de una frase o palabra. Implementar **BERT** podría mejorar el rendimiento en la clasificación de reseñas más sutiles y ambiguas.\n",
        "\n",
        "- **Aplicaciones del Modelo en la Industria:**\n",
        "  Este tipo de modelos de clasificación de sentimientos tiene **aplicaciones importantes en la industria**, especialmente en áreas como **marketing** y **atención al cliente**. Las empresas pueden utilizar estos modelos para:\n",
        "  \n",
        "  1. **Análisis de la Satisfacción del Cliente:** El modelo puede identificar patrones en los comentarios de los clientes y evaluar rápidamente si los productos o servicios están generando satisfacción o descontento. Esto permite a las empresas actuar de manera proactiva para abordar problemas o capitalizar áreas de éxito.\n",
        "  \n",
        "  2. **Mejora de Productos o Servicios:** Mediante el análisis de los comentarios negativos, las empresas pueden identificar las áreas donde los productos o servicios necesitan mejoras, haciendo ajustes específicos basados en la retroalimentación real de los usuarios.\n",
        "  \n",
        "  3. **Segmentación de Mercados:** En marketing, los modelos de análisis de sentimientos permiten a las empresas identificar segmentos de clientes con opiniones similares, permitiendo la creación de campañas más personalizadas y dirigidas a mejorar la experiencia del cliente.\n",
        "  \n",
        "  4. **Automatización de Respuesta al Cliente:** El análisis automatizado de sentimientos puede ser utilizado para categorizar los correos electrónicos de soporte o las reseñas en redes sociales, permitiendo una **atención al cliente más rápida** y personalizada. Las empresas pueden priorizar las respuestas a reseñas negativas o neutras para mejorar su reputación y satisfacción del cliente.\n",
        "  \n",
        "  5. **Toma de Decisiones Estratégicas:** Al identificar tendencias en la percepción del cliente, las empresas pueden tomar decisiones informadas sobre el lanzamiento de nuevos productos, campañas de marketing y estrategias de atención al cliente.\n",
        "\n",
        "---\n",
        "\n",
        "- **Precisión y Recall:** Nos indica que el modelo tiene un balance adecuado entre la capacidad de identificar correctamente cada clase (recall) y la precisión de las predicciones.\n",
        "- **Matriz de Confusión:** Muestra dónde el modelo tiene más errores (por ejemplo, al clasificar reseñas positivas como negativas) y concluye cómo el ajuste de alpha mejoró los resultados.\n",
        "- **Conclusión del Modelo:** El modelo final tiene un rendimiento sobresaliente y es eficiente para análisis de sentimientos, aunque algunos ajustes futuros podrían mejorar los resultados para clases ambiguas."
      ]
    },
    {
      "cell_type": "markdown",
      "id": "8de98284",
      "metadata": {
        "id": "8de98284"
      },
      "source": [
        "---\n",
        "\n",
        "### **Respuesta a la pregunta de investigación**:\n",
        "1. **Uso de Técnicas de PLN**:\n",
        "   - A lo largo del proyecto, se aplicaron diversas técnicas de **Procesamiento de Lenguaje Natural (PLN)** para preprocesar los comentarios y hacerlos útiles para el análisis. Específicamente:\n",
        "     - **Limpieza del texto**: Se Eliminaron duplicados, stopwords, y se aplico lematización.\n",
        "     - **Tokenización** y **vectorización**: Estas técnicas permitieron convertir los comentarios en características numéricas que los modelos de aprendizaje automático pudieron interpretar.\n",
        "\n",
        "2. **Clasificación de los Comentarios**:\n",
        "   - Se Utilizo el modelo de **Naive Bayes** ajustado, que, como se muestra en el reporte de clasificación, fue capaz de predecir con una **precisión del 95.60%** si los comentarios eran **positivos, negativos o neutros**.\n",
        "   - El modelo manejó bien la clasificación de comentarios **negativos y neutros**, con **recall** y **precisión** cercanas al 98%. Sin embargo, la clasificación de comentarios **positivos** mostró ligeros errores, lo cual podría ser mejorado con técnicas más avanzadas o mayor cantidad de datos.\n",
        "\n",
        "3. **Palabras Clave que Influyen en las Clasificaciones**:\n",
        "   - A través del análisis de las **palabras más comunes** en cada clase, se observaron patrones clave:\n",
        "     - Las reseñas **positivas** tienden a incluir palabras como \"great\", \"good\", \"fast\", y \"price\".\n",
        "     - Las reseñas **negativas** incluyen términos como \"problem\", \"card\", y \"defectuoso\".\n",
        "     - Las reseñas **neutrales** se caracterizan por palabras más descriptivas y menos emocionales, como \"speed\", \"use\", y \"work\".\n",
        "   - Estas palabras clave ofrecen información valiosa para interpretar qué aspectos de un producto o servicio generan emociones positivas, negativas o neutras en los clientes.\n",
        "\n",
        "### **Conclusión a la pregunta de investigación**:\n",
        "Al aplicar las técnicas de PLN y los modelos de clasificación, se logro identificar con precisión los sentimientos en las reseñas de los clientes de Amazon, y se descubrio qué palabras clave eran más representativas de cada sentimiento. Esto responde a la pregunta de investigación, demostrando que es posible utilizar estas herramientas para analizar la percepción de los clientes sobre productos o servicios de manera eficiente.\n",
        "\n",
        "---"
      ]
    },
    {
      "cell_type": "markdown",
      "id": "28b5082f",
      "metadata": {
        "id": "28b5082f"
      },
      "source": [
        "### 10. **Próximos Pasos**\n",
        "\n",
        "El modelo **Naive Bayes** ha demostrado ser una herramienta eficaz para la **clasificación de sentimientos**, con una precisión global del **96%**. Al ajustar los hiperparámetros y aplicar técnicas avanzadas de **Procesamiento de Lenguaje Natural (PLN)**, se ha mejorado significativamente el rendimiento del modelo, especialmente en la clasificación de reseñas **neutrales** y **positivas**.\n",
        "\n",
        "**Próximos pasos:**\n",
        "\n",
        "1. **Explorar otros modelos de clasificación**:\n",
        "   - **Logistic Regression**: Probar este modelo lineal puede ofrecer una base sólida y eficiente para la clasificación de sentimientos, particularmente cuando se trata de interpretar la importancia de las características (palabras) en la predicción de cada clase.\n",
        "   - **Random Forest**: Un modelo basado en árboles de decisión, que podría capturar mejor las interacciones complejas entre las palabras. Aunque es más costoso computacionalmente, puede ofrecer mejoras en precisión, especialmente en datos más complejos.\n",
        "\n",
        "2. **Aplicación de modelos más avanzados como BERT**:\n",
        "   - Implementar **BERT (Bidirectional Encoder Representations from Transformers)** para realizar un análisis de sentimientos más profundo y contextual. Este modelo puede mejorar la clasificación al tener en cuenta el contexto bidireccional de las palabras en las reseñas. Esto es especialmente útil en situaciones donde el significado de las palabras depende de su entorno (por ejemplo, el sarcasmo o los comentarios ambiguos).\n",
        "   - Con BERT, se espera mejorar aún más la clasificación de reseñas **neutrales** y reducir errores en la clase **positiva**, donde algunas reseñas han sido clasificadas incorrectamente.\n",
        "\n",
        "3. **Optimización de hiperparámetros**:\n",
        "   - Probar con **técnicas de optimización de hiperparámetros** más avanzadas, como **Grid Search** o **Random Search**, para encontrar las mejores configuraciones de los modelos. Esto puede maximizar el rendimiento sin tener que cambiar de modelo.\n",
        "\n",
        "4. **Ampliar el preprocesamiento de texto**:\n",
        "   - Incorporar técnicas adicionales de limpieza de datos, como la corrección ortográfica, el tratamiento de palabras mal escritas o siglas, que podría mejorar aún más el rendimiento del modelo.\n",
        "   - Implementar **embeddings de palabras** como **Word2Vec** o **GloVe**, que podrían ofrecer representaciones vectoriales más ricas y mejorar la precisión en las predicciones del modelo.\n",
        "\n",
        "5. **Evaluar el impacto de un dataset más balanceado**:\n",
        "   - Probar técnicas de sobremuestreo o submuestreo, como **SMOTE** (Synthetic Minority Over-sampling Technique), para corregir cualquier desequilibrio en las clases y observar cómo esto afecta el rendimiento del modelo en las clases minoritarias.\n",
        "\n",
        "6. **Integración con el entorno empresarial**:\n",
        "   - Probar cómo el modelo puede integrarse en **aplicaciones del mundo real**, como un sistema automatizado para el análisis de reseñas en tiempo real, y evaluar su rendimiento con datos nuevos. También se podría explorar la **implementación en la nube** para facilitar su uso por parte de empresas.\n",
        "\n",
        "7. **Mejorar la visualización de resultados**:\n",
        "   - Refinar las visualizaciones para proporcionar insights más claros a las partes interesadas y explorar la posibilidad de **dashboard interactivos** que ofrezcan actualizaciones en tiempo real sobre los sentimientos de los clientes.\n",
        "\n",
        "---\n",
        "\n",
        "### **Conclusión final**:\n",
        "El análisis de sentimientos realizado hasta el momento proporciona una base sólida para comprender mejor las percepciones de los clientes. Los próximos pasos mencionados buscan no solo mejorar la precisión del modelo, sino también explorar cómo se puede aplicar este análisis de manera más efectiva en **contextos empresariales**. Las mejoras en la técnica de PLN y la comparación de modelos más avanzados pueden llevar a resultados aún más valiosos, como la identificación más precisa de áreas clave de mejora en productos o servicios basados en las opiniones de los clientes.\n",
        "\n",
        "---"
      ]
    },
    {
      "cell_type": "markdown",
      "id": "9d60aa8f",
      "metadata": {
        "id": "9d60aa8f"
      },
      "source": [
        "\n",
        "### **Referencias**\n",
        "\n",
        "1. **Kaggle Dataset**:\n",
        "   - Tarkkaanko. *Amazon Customer Reviews*.\n",
        "\n",
        "2. **Naive Bayes Classification**:\n",
        "   - Zhang, H. (2004). *The Optimality of Naive Bayes*. American Association for Artificial Intelligence (AAAI).\n",
        "   - Murphy, K. P. (2012). *Machine Learning: A Probabilistic Perspective*. The MIT Press.\n",
        "\n",
        "3. **Natural Language Processing (NLP)**:\n",
        "   - Jurafsky, D., & Martin, J. H. (2021). *Speech and Language Processing*. 3rd Edition. Pearson.\n",
        "   - Goldberg, Y. (2017). *Neural Network Methods for Natural Language Processing*. Synthesis Lectures on Human Language Technologies.\n",
        "\n",
        "4. **BERT (Bidirectional Encoder Representations from Transformers)**:\n",
        "   - Devlin, J., Chang, M. W., Lee, K., & Toutanova, K. (2018). *BERT: Pre-training of Deep Bidirectional Transformers for Language Understanding*. arXiv preprint arXiv:1810.04805.\n",
        "\n",
        "5. **Grid Search y Random Search**:\n",
        "   - Bergstra, J., & Bengio, Y. (2012). *Random Search for Hyper-Parameter Optimization*. Journal of Machine Learning Research, 13(Feb): 281-305.\n",
        "   - Pedregosa, F., Varoquaux, G., Gramfort, A., et al. (2011). *Scikit-learn: Machine Learning in Python*. Journal of Machine Learning Research, 12, 2825-2830.\n",
        "\n",
        "6. **Random Forest**:\n",
        "   - Breiman, L. (2001). *Random Forests*. Machine Learning, 45(1), 5–32.\n",
        "   - Louppe, G. (2014). *Understanding Random Forests: From Theory to Practice*. arXiv preprint arXiv:1407.7502.\n",
        "\n",
        "7. **SMOTE (Synthetic Minority Over-sampling Technique)**:\n",
        "   - Chawla, N. V., Bowyer, K. W., Hall, L. O., & Kegelmeyer, W. P. (2002). *SMOTE: Synthetic Minority Over-sampling Technique*. Journal of Artificial Intelligence Research, 16, 321-357.\n",
        "\n",
        "---"
      ]
    }
  ],
  "metadata": {
    "kernelspec": {
      "display_name": "Python 3 (ipykernel)",
      "language": "python",
      "name": "python3"
    },
    "language_info": {
      "codemirror_mode": {
        "name": "ipython",
        "version": 3
      },
      "file_extension": ".py",
      "mimetype": "text/x-python",
      "name": "python",
      "nbconvert_exporter": "python",
      "pygments_lexer": "ipython3",
      "version": "3.11.5"
    },
    "colab": {
      "provenance": []
    }
  },
  "nbformat": 4,
  "nbformat_minor": 5
}